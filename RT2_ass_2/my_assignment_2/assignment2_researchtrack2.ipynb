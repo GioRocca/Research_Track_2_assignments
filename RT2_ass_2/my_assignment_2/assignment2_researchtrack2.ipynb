{
 "cells": [
  {
   "cell_type": "markdown",
   "id": "8bab243a",
   "metadata": {},
   "source": [
    "node_a_client\n",
    "============"
   ]
  },
  {
   "cell_type": "code",
   "execution_count": 1,
   "id": "5f7b4a7e",
   "metadata": {
    "ExecuteTime": {
     "end_time": "2023-06-01T13:07:50.985633Z",
     "start_time": "2023-06-01T13:07:46.954327Z"
    }
   },
   "outputs": [],
   "source": [
    "#! /usr/bin/env python\n",
    "import rospy\n",
    "import jupyros as jr\n",
    "import assignment_2_2022.msg\n",
    "import actionlib \n",
    "import ipywidgets as widgets\n",
    "from nav_msgs.msg import Odometry\n",
    "from my_assignment_2.msg import Info\n",
    "from sensor_msgs.msg import LaserScan\n",
    "from matplotlib.animation import FuncAnimation\n",
    "import matplotlib.pyplot as plt\n",
    "import numpy as np\n",
    "global number_reached\n",
    "global number_canceled\n",
    "\n",
    "number_reached = 0\n",
    "number_canceled = 0\n"
   ]
  },
  {
   "cell_type": "code",
   "execution_count": 2,
   "id": "a4142167",
   "metadata": {
    "ExecuteTime": {
     "end_time": "2023-06-01T13:07:51.728948Z",
     "start_time": "2023-06-01T13:07:50.992838Z"
    }
   },
   "outputs": [
    {
     "data": {
      "text/plain": [
       "True"
      ]
     },
     "execution_count": 2,
     "metadata": {},
     "output_type": "execute_result"
    }
   ],
   "source": [
    "# initialize the node \n",
    "rospy.init_node(\"node_a\")\n",
    "\n",
    "client = actionlib.SimpleActionClient(\"/reaching_goal\", assignment_2_2022.msg.PlanningAction)\n",
    "\n",
    "client.wait_for_server()"
   ]
  },
  {
   "cell_type": "code",
   "execution_count": 3,
   "id": "33e4977c",
   "metadata": {
    "ExecuteTime": {
     "end_time": "2023-06-01T13:07:52.107758Z",
     "start_time": "2023-06-01T13:07:51.736490Z"
    }
   },
   "outputs": [
    {
     "data": {
      "application/vnd.jupyter.widget-view+json": {
       "model_id": "dab2eb226d62433da16203acbaccf0d1",
       "version_major": 2,
       "version_minor": 0
      },
      "text/plain": [
       "HBox(children=(VBox(children=(FloatText(value=0.0, description='x value:'), FloatText(value=0.0, description='…"
      ]
     },
     "metadata": {},
     "output_type": "display_data"
    }
   ],
   "source": [
    "new_goal = assignment_2_2022.msg.PlanningGoal()\n",
    "\n",
    "# create two boxes in order to input the coordinates of a new goal\n",
    "\n",
    "x_goal = widgets.FloatText(description = \"x value:\")\n",
    "y_goal = widgets.FloatText(description = \"y value:\")\n",
    "\n",
    "# create a button to send the goal\n",
    "\n",
    "send_button = widgets.Button(description = \"SEND THE GOAL\")\n",
    "\n",
    "# create a button to stop the robot before it arrives to the defined goal\n",
    "\n",
    "stop_button = widgets.Button(description = \"STOP!\", disabled = True)\n",
    "\n",
    "# create a widget to display the status of the goals\n",
    "\n",
    "goals_status = widgets.Textarea(value = \"Goals status:\\n \", disabled  = True)\n",
    "\n",
    "# create a function in order to define a new goal \n",
    "\n",
    "def define_goal(g):\n",
    "    \n",
    "    # check if the input is valid\n",
    "    \n",
    "    new_goal.target_pose.pose.position.x = x_goal.value\n",
    "    new_goal.target_pose.pose.position.y = y_goal.value\n",
    "    \n",
    "    # send the goal to the client \n",
    "\n",
    "    client.send_goal(new_goal)\n",
    "    x_goal.disabled = True\n",
    "    y_goal.disabled = True\n",
    "    send_button.disabled = True\n",
    "    stop_button.disabled = False\n",
    "\n",
    "    goals_status.value = goals_status.value + \"Goal with: x= \" + str(x_goal.value) + \" and y= \" + str(y_goal.value)\n",
    "    \n",
    "# create a function in order to stop the robot cancelling the goal\n",
    "\n",
    "def stop_robot(s):\n",
    "    \n",
    "    client.cancel_goal()\n",
    "    \n",
    "# call the function define_goal when the send_button is pressed\n",
    "\n",
    "send_button.on_click(define_goal)\n",
    "\n",
    "# call the function stop_robot when the stop_button is pressed\n",
    "\n",
    "stop_button.on_click(stop_robot)\n",
    "    \n",
    "# show the widgets\n",
    "\n",
    "widgets.HBox([widgets.VBox([x_goal,y_goal,goals_status]), widgets.VBox([send_button, stop_button])])\n",
    "    "
   ]
  },
  {
   "cell_type": "code",
   "execution_count": 4,
   "id": "58dec323",
   "metadata": {
    "ExecuteTime": {
     "end_time": "2023-06-01T13:07:52.163340Z",
     "start_time": "2023-06-01T13:07:52.140280Z"
    }
   },
   "outputs": [],
   "source": [
    "# create a function to return if a certain goal has been reached correctly or not\n",
    "\n",
    "def goal_status_callback(goal_stat):\n",
    "    \n",
    "    if goal_stat.feedback.stat == \"Target reached!\":\n",
    "        \n",
    "        global number_reached\n",
    "        number_reached += 1\n",
    "        x_goal.disabled = False\n",
    "        y_goal.disabled = False\n",
    "        send_button.disabled = False\n",
    "        stop_button.disabled = True\n",
    "    \n",
    "        goals_status.value = goals_status.value + \" -> Reached\\n\"\n",
    "        \n",
    "    elif goal_stat.feedback.stat == \"Target cancelled!\":\n",
    "        \n",
    "        global number_canceled\n",
    "        number_canceled += 1\n",
    "        x_goal.disabled = False\n",
    "        y_goal.disabled = False\n",
    "        send_button.disabled = False\n",
    "        stop_button.disabled = True\n",
    "        \n",
    "        goals_status.value = goals_status.value + \" -> Cancelled\\n\"\n"
   ]
  },
  {
   "cell_type": "code",
   "execution_count": 5,
   "id": "671a2766",
   "metadata": {
    "ExecuteTime": {
     "end_time": "2023-06-01T13:07:52.321135Z",
     "start_time": "2023-06-01T13:07:52.189357Z"
    }
   },
   "outputs": [
    {
     "data": {
      "application/vnd.jupyter.widget-view+json": {
       "model_id": "23ff0946e6514769bf2e83cad52f4ebf",
       "version_major": 2,
       "version_minor": 0
      },
      "text/plain": [
       "VBox(children=(HBox(children=(Button(description='Stop', style=ButtonStyle()),)), Output(layout=Layout(border=…"
      ]
     },
     "metadata": {},
     "output_type": "display_data"
    }
   ],
   "source": [
    "jr.subscribe(\"/reaching_goal/feedback\", assignment_2_2022.msg.PlanningActionFeedback, goal_status_callback)"
   ]
  },
  {
   "cell_type": "markdown",
   "id": "3c7e4a44",
   "metadata": {},
   "source": [
    "node_a_publisher\n",
    "==============="
   ]
  },
  {
   "cell_type": "code",
   "execution_count": 6,
   "id": "a3aa8f2c",
   "metadata": {
    "ExecuteTime": {
     "end_time": "2023-06-01T13:07:52.355106Z",
     "start_time": "2023-06-01T13:07:52.337083Z"
    }
   },
   "outputs": [],
   "source": [
    "# publisher for the information about the robot's position and velocity\n",
    "# the custom message Info contains the fields x,y (corresponding to the position) and the fields vel_x, vel_y (for the velocities)\n",
    "\n",
    "publisher = rospy.Publisher(\"/InfoRobot\", Info, queue_size = 10)"
   ]
  },
  {
   "cell_type": "markdown",
   "id": "125627da",
   "metadata": {},
   "source": [
    "Info about Robot's position\n",
    "======================="
   ]
  },
  {
   "cell_type": "code",
   "execution_count": 7,
   "id": "e2b030ff",
   "metadata": {
    "ExecuteTime": {
     "end_time": "2023-06-01T13:07:52.531645Z",
     "start_time": "2023-06-01T13:07:52.361347Z"
    }
   },
   "outputs": [
    {
     "data": {
      "application/vnd.jupyter.widget-view+json": {
       "model_id": "297ac68532f84ed8afd39ad7d3e5ecc7",
       "version_major": 2,
       "version_minor": 0
      },
      "text/plain": [
       "HBox(children=(FloatText(value=0.0, description='pos_x: ', disabled=True), FloatText(value=0.0, description='p…"
      ]
     },
     "metadata": {},
     "output_type": "display_data"
    }
   ],
   "source": [
    "# create two widgets for the robot position\n",
    "\n",
    "pos_x = widgets.FloatText(description = \"pos_x: \", disabled = True)\n",
    "pos_y = widgets.FloatText(description = \"pos_y: \", disabled = True)\n",
    "\n",
    "def info_robot_position(info):\n",
    "    \n",
    "    pos_x.value = info.x\n",
    "    pos_y.value = info.y\n",
    "    \n",
    "widgets.HBox([pos_x,pos_y])\n"
   ]
  },
  {
   "cell_type": "code",
   "execution_count": 8,
   "id": "07485b8c",
   "metadata": {
    "ExecuteTime": {
     "end_time": "2023-06-01T13:07:52.760501Z",
     "start_time": "2023-06-01T13:07:52.539111Z"
    }
   },
   "outputs": [
    {
     "data": {
      "application/vnd.jupyter.widget-view+json": {
       "model_id": "a04ca3bf311f47aaab2598c803f641c0",
       "version_major": 2,
       "version_minor": 0
      },
      "text/plain": [
       "VBox(children=(HBox(children=(Button(description='Stop', style=ButtonStyle()),)), Output(layout=Layout(border=…"
      ]
     },
     "metadata": {},
     "output_type": "display_data"
    }
   ],
   "source": [
    "jr.subscribe('/InfoRobot', Info, info_robot_position)"
   ]
  },
  {
   "cell_type": "markdown",
   "id": "89e8575b",
   "metadata": {},
   "source": [
    "Closest Obstacle\n",
    "=============="
   ]
  },
  {
   "cell_type": "code",
   "execution_count": 9,
   "id": "4ca2c4d1",
   "metadata": {
    "ExecuteTime": {
     "end_time": "2023-06-01T13:07:52.841925Z",
     "start_time": "2023-06-01T13:07:52.782932Z"
    }
   },
   "outputs": [
    {
     "data": {
      "application/vnd.jupyter.widget-view+json": {
       "model_id": "6f631e5d4a3a47ee84ae1d13ed2b81f9",
       "version_major": 2,
       "version_minor": 0
      },
      "text/plain": [
       "FloatText(value=0.0, description='distance from the closest obstacle', disabled=True)"
      ]
     },
     "metadata": {},
     "output_type": "display_data"
    }
   ],
   "source": [
    "# create a widget to display the distance between the robot and the closest obstacle near it\n",
    "\n",
    "scan_closest = widgets.FloatText(description = \"distance from the closest obstacle\", disabled = True)\n",
    "\n",
    "# create a function to evaluate the distance between the robot and the closest obstacle\n",
    "\n",
    "def closest(close):\n",
    "    \n",
    "    min = 30\n",
    "    \n",
    "    for x in close.ranges: \n",
    "        if x > 0.1 and x < min:\n",
    "            min = x\n",
    "    scan_closest.value = min \n",
    "    \n",
    "display(scan_closest)\n"
   ]
  },
  {
   "cell_type": "code",
   "execution_count": 10,
   "id": "8a13008f",
   "metadata": {
    "ExecuteTime": {
     "end_time": "2023-06-01T13:07:52.994769Z",
     "start_time": "2023-06-01T13:07:52.856256Z"
    }
   },
   "outputs": [
    {
     "data": {
      "application/vnd.jupyter.widget-view+json": {
       "model_id": "afd03548f2e542c38680a18916619a62",
       "version_major": 2,
       "version_minor": 0
      },
      "text/plain": [
       "VBox(children=(HBox(children=(Button(description='Stop', style=ButtonStyle()),)), Output(layout=Layout(border=…"
      ]
     },
     "metadata": {},
     "output_type": "display_data"
    }
   ],
   "source": [
    "jr.subscribe(\"/scan\", LaserScan, closest)"
   ]
  },
  {
   "cell_type": "markdown",
   "id": "15248b92",
   "metadata": {},
   "source": [
    "PLOT THE POSITION\n",
    "=================="
   ]
  },
  {
   "cell_type": "code",
   "execution_count": 11,
   "id": "c5821436",
   "metadata": {
    "ExecuteTime": {
     "end_time": "2023-06-01T13:07:53.063111Z",
     "start_time": "2023-06-01T13:07:53.017396Z"
    }
   },
   "outputs": [],
   "source": [
    "class Visualiser:\n",
    "    def __init__(self):\n",
    "        self.fig, self.ax = plt.subplots() \n",
    "        self.ln, = plt.plot([], [], 'ro') \n",
    "        self.x_data, self.y_data = [] , []\n",
    "    def plot_init(self): \n",
    "        self.ax.set_xlim(-10, 10)\n",
    "        self.ax.set_ylim(-10, 10) \n",
    "        return self.ln\n",
    "    def odom_callback(self, msg): \n",
    "        self.y_data.append(msg.pose.pose.position.y) \n",
    "        self.x_data.append(msg.pose.pose.position.x)\n",
    "        \n",
    "        # define the variable robot_info as the same type of the custom message\n",
    "    \n",
    "        robot_info = Info()\n",
    "\n",
    "        # fill all the fields of robot_info with the informations of the robot\n",
    "\n",
    "        robot_info.x = msg.pose.pose.position.x\n",
    "        robot_info.y = msg.pose.pose.position.y\n",
    "\n",
    "        robot_info.vel_x = msg.twist.twist.linear.x\n",
    "        robot_info.vel_y = msg.twist.twist.linear.y\n",
    "\n",
    "        publisher.publish(robot_info)\n",
    "    def update_plot(self, frame): \n",
    "        self.ln.set_data(self.x_data,  self.y_data) \n",
    "        return self.ln"
   ]
  },
  {
   "cell_type": "code",
   "execution_count": 12,
   "id": "9756d069",
   "metadata": {
    "ExecuteTime": {
     "end_time": "2023-06-01T13:07:53.431308Z",
     "start_time": "2023-06-01T13:07:53.079021Z"
    }
   },
   "outputs": [
    {
     "data": {
      "application/vnd.jupyter.widget-view+json": {
       "model_id": "d2394fbe66ab4c5e88d6fa0cf4a37dd5",
       "version_major": 2,
       "version_minor": 0
      },
      "text/plain": [
       "Canvas(toolbar=Toolbar(toolitems=[('Home', 'Reset original view', 'home', 'home'), ('Back', 'Back to previous …"
      ]
     },
     "metadata": {},
     "output_type": "display_data"
    }
   ],
   "source": [
    "%matplotlib widget\n",
    "vis = Visualiser()\n",
    "sub = jr.subscribe('/odom',  Odometry, vis.odom_callback)\n",
    "ani = FuncAnimation(vis.fig, vis.update_plot,  init_func=vis.plot_init) \n",
    "plt.show(block=True)"
   ]
  },
  {
   "cell_type": "markdown",
   "id": "5b98c3de",
   "metadata": {},
   "source": [
    "Keep track of the reached/canceled goals\n",
    "============================="
   ]
  },
  {
   "cell_type": "code",
   "execution_count": 13,
   "id": "9a02cb44",
   "metadata": {
    "ExecuteTime": {
     "end_time": "2023-06-01T13:07:53.889696Z",
     "start_time": "2023-06-01T13:07:53.447148Z"
    }
   },
   "outputs": [
    {
     "data": {
      "application/vnd.jupyter.widget-view+json": {
       "model_id": "faf162c4c2534ec899d5c3fe4f716828",
       "version_major": 2,
       "version_minor": 0
      },
      "text/plain": [
       "Canvas(toolbar=Toolbar(toolitems=[('Home', 'Reset original view', 'home', 'home'), ('Back', 'Back to previous …"
      ]
     },
     "metadata": {},
     "output_type": "display_data"
    },
    {
     "data": {
      "application/vnd.jupyter.widget-view+json": {
       "model_id": "3e8689d177c041a986bd60de0164dbc0",
       "version_major": 2,
       "version_minor": 0
      },
      "text/plain": [
       "Button(button_style='info', description='Update the bar chart', style=ButtonStyle())"
      ]
     },
     "metadata": {},
     "output_type": "display_data"
    }
   ],
   "source": [
    "update_button = widgets.Button(description = \"Update the bar chart\", button_style = \"info\")\n",
    "\n",
    "plt.figure(2)\n",
    "columns = [number_reached, number_canceled]\n",
    "rows = np.linspace(1,2,2)\n",
    "plt.xticks(np.linspace(0,12,13))\n",
    "plt.xlabel('Goals Reached                                                                    Goals Canceled')\n",
    "plt.bar(rows,columns, align='edge', width=0.10, color='green')\n",
    "plt.show()\n",
    "\n",
    "def update_button_click(ub):\n",
    "    \n",
    "    plt.figure(2)\n",
    "    columns = [number_reached, number_canceled]\n",
    "    rows = np.linspace(1,2,2)\n",
    "    plt.xticks(np.linspace(0,12,13))\n",
    "    plt.xlabel('Goals Reached                                                                    Goals Canceled')\n",
    "    plt.bar(rows,columns, align='edge', width=0.10, color='green')\n",
    "    plt.show()\n",
    "    \n",
    "update_button.on_click(update_button_click)\n",
    "display(update_button)"
   ]
  }
 ],
 "metadata": {
  "kernelspec": {
   "display_name": "Python 3 (ipykernel)",
   "language": "python",
   "name": "python3"
  },
  "language_info": {
   "codemirror_mode": {
    "name": "ipython",
    "version": 3
   },
   "file_extension": ".py",
   "mimetype": "text/x-python",
   "name": "python",
   "nbconvert_exporter": "python",
   "pygments_lexer": "ipython3",
   "version": "3.8.5"
  },
  "toc": {
   "base_numbering": 1,
   "nav_menu": {},
   "number_sections": true,
   "sideBar": true,
   "skip_h1_title": false,
   "title_cell": "Table of Contents",
   "title_sidebar": "Contents",
   "toc_cell": false,
   "toc_position": {},
   "toc_section_display": true,
   "toc_window_display": false
  },
  "varInspector": {
   "cols": {
    "lenName": 16,
    "lenType": 16,
    "lenVar": 40
   },
   "kernels_config": {
    "python": {
     "delete_cmd_postfix": "",
     "delete_cmd_prefix": "del ",
     "library": "var_list.py",
     "varRefreshCmd": "print(var_dic_list())"
    },
    "r": {
     "delete_cmd_postfix": ") ",
     "delete_cmd_prefix": "rm(",
     "library": "var_list.r",
     "varRefreshCmd": "cat(var_dic_list()) "
    }
   },
   "types_to_exclude": [
    "module",
    "function",
    "builtin_function_or_method",
    "instance",
    "_Feature"
   ],
   "window_display": false
  }
 },
 "nbformat": 4,
 "nbformat_minor": 5
}
